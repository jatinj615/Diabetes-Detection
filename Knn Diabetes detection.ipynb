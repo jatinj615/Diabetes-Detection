{
 "cells": [
  {
   "cell_type": "markdown",
   "metadata": {},
   "source": [
    "## Using Knn"
   ]
  },
  {
   "cell_type": "code",
   "execution_count": 1,
   "metadata": {},
   "outputs": [],
   "source": [
    "import numpy as np\n",
    "import pandas as pd\n",
    "import matplotlib.pyplot as plt\n",
    "import seaborn as sns\n",
    "from sklearn.preprocessing import StandardScaler\n",
    "df = pd.read_csv('diabetes.csv')\n",
    "X = df[['Glucose', 'BloodPressure']]\n",
    "y = df['Outcome']\n",
    "X_sc = StandardScaler()\n",
    "X = X_sc.fit_transform(X)\n",
    "X = pd.DataFrame(data=X, columns=['Glucose', 'BloodPressure'])"
   ]
  },
  {
   "cell_type": "markdown",
   "metadata": {},
   "source": [
    "## Train Test Split"
   ]
  },
  {
   "cell_type": "code",
   "execution_count": 2,
   "metadata": {},
   "outputs": [],
   "source": [
    "from sklearn.model_selection import train_test_split"
   ]
  },
  {
   "cell_type": "code",
   "execution_count": 3,
   "metadata": {},
   "outputs": [],
   "source": [
    "X_train, X_test, y_train, y_test = train_test_split(X, y, test_size = 0.2, random_state =42)"
   ]
  },
  {
   "cell_type": "markdown",
   "metadata": {},
   "source": [
    "## Performance Function"
   ]
  },
  {
   "cell_type": "code",
   "execution_count": 4,
   "metadata": {},
   "outputs": [],
   "source": [
    "from sklearn.model_selection import cross_val_predict, cross_val_score\n",
    "from sklearn.metrics import accuracy_score, classification_report, confusion_matrix"
   ]
  },
  {
   "cell_type": "code",
   "execution_count": 5,
   "metadata": {},
   "outputs": [],
   "source": [
    "def print_score(clf, X_train, X_test, y_train, y_test, train = True):\n",
    "#     print accuracy score, classification report, confusion metrics\n",
    "    if train:\n",
    "#         training performance\n",
    "        print('Train Result : \\n')\n",
    "        print('Accuracy Score {0:.4f}\\n'.format(accuracy_score(y_train, clf.predict(X_train))))\n",
    "        print('Classification Report : \\n {} \\n'.format(classification_report(y_train, clf.predict(X_train))))\n",
    "        print('Confusion Metrics : \\n {} \\n'.format(confusion_matrix(y_train, clf.predict(X_train))))\n",
    "        \n",
    "        res = cross_val_score(clf, X_train, y_train, cv = 10, scoring='accuracy')\n",
    "        print('Average Accuracy : {0:.4f}\\n'.format(np.mean(res)))\n",
    "        print('Accuracy SD : {0:.4f}\\n'.format(np.std(res)))\n",
    "        \n",
    "    elif train == False:\n",
    "#         test performance\n",
    "        print('Test Result : \\n')\n",
    "        print('Accuracy Score {0:.4f}\\n'.format(accuracy_score(y_test, clf.predict(X_test))))\n",
    "        print('Classification Report : \\n {}\\n'.format(classification_report(y_test, clf.predict(X_test))))\n",
    "        print('Confusion Metrics : \\n {} \\n'.format(confusion_matrix(y_test, clf.predict(X_test))))\n",
    "        "
   ]
  },
  {
   "cell_type": "markdown",
   "metadata": {
    "collapsed": true
   },
   "source": [
    "## Deigning Model"
   ]
  },
  {
   "cell_type": "code",
   "execution_count": 6,
   "metadata": {},
   "outputs": [],
   "source": [
    "from sklearn.neighbors import KNeighborsClassifier"
   ]
  },
  {
   "cell_type": "code",
   "execution_count": 25,
   "metadata": {},
   "outputs": [],
   "source": [
    "knn = KNeighborsClassifier(n_neighbors=7, p=2)"
   ]
  },
  {
   "cell_type": "code",
   "execution_count": 26,
   "metadata": {},
   "outputs": [
    {
     "data": {
      "text/plain": [
       "KNeighborsClassifier(algorithm='auto', leaf_size=30, metric='minkowski',\n",
       "           metric_params=None, n_jobs=1, n_neighbors=7, p=2,\n",
       "           weights='uniform')"
      ]
     },
     "execution_count": 26,
     "metadata": {},
     "output_type": "execute_result"
    }
   ],
   "source": [
    "knn.fit(X_train, y_train)"
   ]
  },
  {
   "cell_type": "code",
   "execution_count": 27,
   "metadata": {},
   "outputs": [
    {
     "name": "stdout",
     "output_type": "stream",
     "text": [
      "Train Result : \n",
      "\n",
      "Accuracy Score 0.7736\n",
      "\n",
      "Classification Report : \n",
      "              precision    recall  f1-score   support\n",
      "\n",
      "          0       0.79      0.90      0.84       401\n",
      "          1       0.73      0.54      0.63       213\n",
      "\n",
      "avg / total       0.77      0.77      0.76       614\n",
      " \n",
      "\n",
      "Confusion Metrics : \n",
      " [[359  42]\n",
      " [ 97 116]] \n",
      "\n",
      "Average Accuracy : 0.7217\n",
      "\n",
      "Accuracy SD : 0.0444\n",
      "\n",
      "Test Result : \n",
      "\n",
      "Accuracy Score 0.7403\n",
      "\n",
      "Classification Report : \n",
      "              precision    recall  f1-score   support\n",
      "\n",
      "          0       0.76      0.87      0.81        99\n",
      "          1       0.68      0.51      0.58        55\n",
      "\n",
      "avg / total       0.73      0.74      0.73       154\n",
      "\n",
      "\n",
      "Confusion Metrics : \n",
      " [[86 13]\n",
      " [27 28]] \n",
      "\n"
     ]
    }
   ],
   "source": [
    "print_score(knn, X_train, X_test, y_train, y_test, train = True)\n",
    "print_score(knn, X_train, X_test, y_train, y_test, train = False)"
   ]
  },
  {
   "cell_type": "code",
   "execution_count": 42,
   "metadata": {},
   "outputs": [],
   "source": [
    "from sklearn.metrics import roc_curve\n",
    "y_scores = cross_val_predict(knn, X_train, y_train, cv=3)\n",
    "fpr, tpr, thresholds = roc_curve(y_train, y_scores)"
   ]
  },
  {
   "cell_type": "code",
   "execution_count": 43,
   "metadata": {},
   "outputs": [],
   "source": [
    "def plot_roc_curve(fpr, tpr, label=None):\n",
    "    plt.plot(fpr, tpr, linewidth=2, label=label)\n",
    "    plt.plot([0,1], [0,1], 'k--')\n",
    "    plt.axis([0, 1, 0, 1])\n",
    "    plt.xlabel('False Positive Rate')\n",
    "    plt.ylabel('True Positive Rate')\n",
    "    plt.title('ROC Curve')"
   ]
  },
  {
   "cell_type": "code",
   "execution_count": 44,
   "metadata": {},
   "outputs": [
    {
     "data": {
      "image/png": "[encoded data removed]",
      "text/plain": [
       "<matplotlib.figure.Figure at 0x7ff4c224f828>"
      ]
     },
     "metadata": {},
     "output_type": "display_data"
    }
   ],
   "source": [
    "plt.figure(figsize=(12,8)); \n",
    "plot_roc_curve(fpr, tpr)\n",
    "plt.show();"
   ]
  },
  {
   "cell_type": "code",
   "execution_count": null,
   "metadata": {},
   "outputs": [],
   "source": []
  }
 ],
 "metadata": {
  "kernelspec": {
   "display_name": "Python 3",
   "language": "python",
   "name": "python3"
  },
  "language_info": {
   "codemirror_mode": {
    "name": "ipython",
    "version": 3
   },
   "file_extension": ".py",
   "mimetype": "text/x-python",
   "name": "python",
   "nbconvert_exporter": "python",
   "pygments_lexer": "ipython3",
   "version": "3.6.4"
  }
 },
 "nbformat": 4,
 "nbformat_minor": 2
}
